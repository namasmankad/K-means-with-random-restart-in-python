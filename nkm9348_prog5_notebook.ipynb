{
 "cells": [
  {
   "cell_type": "markdown",
   "metadata": {},
   "source": [
    "This is a python implementation of k-means with random restart\n",
    "\n",
    "input: \n",
    "1. the parameter k of the target number of clusters\n",
    "2. the number r of random restarts\n",
    "3. a flag value 0 or 1 for compact or verbose output\n",
    "4. data is either a .csv file or a random data sample generated from gaussian processes"
   ]
  },
  {
   "cell_type": "code",
   "execution_count": 1,
   "metadata": {},
   "outputs": [],
   "source": [
    "import csv\n",
    "import numpy as np\n",
    "from matplotlib import pyplot as plt\n",
    "import random\n",
    "import copy\n",
    "import pandas as pd\n",
    "import math"
   ]
  },
  {
   "cell_type": "code",
   "execution_count": null,
   "metadata": {},
   "outputs": [],
   "source": [
    "#This block has several gaussian processes to generate sample data\n",
    "#Experiment 1: generating 60 datapoints randomly in 2 dimensions. we have 3 gaussian processes with mu1, mu2, mu3 values and each generating 20 data points\n",
    "sigma = 1.0\n",
    "mu1 = [0.0,0.0]\n",
    "mu2 = [6.0,0.0]\n",
    "mu3 = [3.0,3*math.sqrt(3)]\n",
    "s1 = np.random.normal(mu1, sigma, (20,2))\n",
    "s2 = np.random.normal(mu2, sigma, (20,2))\n",
    "s3 = np.random.normal(mu3, sigma, (20,2))\n",
    "\n",
    "x1,y1 = s1.T\n",
    "plt.scatter(x1,y1)\n",
    "x2,y2 = s2.T\n",
    "plt.scatter(x2,y2)\n",
    "x3,y3 = s3.T\n",
    "plt.scatter(x3,y3)\n",
    "plt.show()\n",
    "\n",
    "s = np.append(s1,np.append(s2,s3,axis=0),axis = 0)\n",
    "n, d = s.shape\n",
    "\n",
    "# #Experiment 2: similar to experiment 1\n",
    "# sigma = 2.0\n",
    "# mu1 = [0.0,0.0]\n",
    "# mu2 = [2.0,0.0]\n",
    "# mu3 = [1.0,math.sqrt(3)]\n",
    "# s1 = np.random.normal(mu1, sigma, (20,2))\n",
    "# s2 = np.random.normal(mu2, sigma, (20,2))\n",
    "# s3 = np.random.normal(mu3, sigma, (20,2))\n",
    "# s = np.append(s1,np.append(s2,s3,axis=0),axis = 0)\n",
    "\n",
    "# x1,y1 = s1.T\n",
    "# plt.scatter(x1,y1)\n",
    "# x2,y2 = s2.T\n",
    "# plt.scatter(x2,y2)\n",
    "# x3,y3 = s3.T\n",
    "# plt.scatter(x3,y3)\n",
    "# plt.show()\n",
    "\n",
    "# n, d = s.shape\n",
    "\n",
    "# #Experiment 3: similar to experiment 1 except there is only 1 gaussian process generating 60 data points\n",
    "# sigma = 2.0\n",
    "# mu1 = [0.0,0.0]\n",
    "# s = np.random.normal(mu1, sigma, (60,2))\n",
    "\n",
    "# x1,y1 = s.T\n",
    "# plt.scatter(x1,y1)\n",
    "# plt.show()\n",
    "\n",
    "\n",
    "# n, d = s.shape\n",
    "\n",
    "# #experiment 4: similar to experiemnt 1 except the data is now in 100 dimensions\n",
    "# sigma = 1.0\n",
    "# mu1 = [0.0]*100\n",
    "# mu2 = [60.0] + [0.0]*99\n",
    "# mu3 = [30.0, 30*math.sqrt(3)] + [0.0]*98\n",
    "# s1 = np.random.normal(mu1, sigma, (20,100))\n",
    "# s2 = np.random.normal(mu2, sigma, (20,100))\n",
    "# s3 = np.random.normal(mu3, sigma, (20,100))\n",
    "# s = np.append(s1,np.append(s2,s3,axis=0),axis = 0)\n",
    "\n",
    "# n, d = s.shape\n",
    "\n",
    "# #experiment 5:\n",
    "# sigma = 1.0\n",
    "# mu1 = [0.0]*100\n",
    "# mu2 = [6.0] + [0.0]*99\n",
    "# mu3 = [3.0, 3*math.sqrt(3)] + [0.0]*98\n",
    "# s1 = np.random.normal(mu1, sigma, (20,100))\n",
    "# s2 = np.random.normal(mu2, sigma, (20,100))\n",
    "# s3 = np.random.normal(mu3, sigma, (20,100))\n",
    "# s = np.append(s1,np.append(s2,s3,axis=0),axis = 0)\n",
    "\n",
    "# n, d = s.shape\n",
    "\n",
    "# #experiment 6:\n",
    "# sigma = 2.0\n",
    "# mu1 = [0.0]*100\n",
    "# mu2 = [2.0] + [0.0]*99\n",
    "# mu3 = [1.0, math.sqrt(3)] + [0.0]*98\n",
    "# s1 = np.random.normal(mu1, sigma, (20,100))\n",
    "# s2 = np.random.normal(mu2, sigma, (20,100))\n",
    "# s3 = np.random.normal(mu3, sigma, (20,100))\n",
    "# s = np.append(s1,np.append(s2,s3,axis=0),axis = 0)\n",
    "\n",
    "# n, d = s.shape\n",
    "\n",
    "# #experiment 7:\n",
    "# sigma = 2.0\n",
    "# mu1 = [0.0]*100\n",
    "# s = np.random.normal(mu1, sigma, (60,100))\n",
    "\n",
    "# n, d = s.shape"
   ]
  },
  {
   "cell_type": "code",
   "execution_count": 2,
   "metadata": {},
   "outputs": [
    {
     "name": "stdout",
     "output_type": "stream",
     "text": [
      "   0     1    2\n",
      "0  A   0.0  4.0\n",
      "1  B   1.0  5.0\n",
      "2  C   8.0  0.0\n",
      "3  D   9.1  0.0\n",
      "4  E  16.0  4.1\n",
      "5  F  15.0  5.1\n",
      "6 2\n"
     ]
    }
   ],
   "source": [
    "#run if using .csv file.\n",
    "\n",
    "#program assumes that the input csv file doesnot have headers, as given in sample in/outputs in question.\n",
    "file1 = pd.read_csv('abcd.csv', header=None)\n",
    "print(file1)\n",
    "\n",
    "#number of dimensions d of the data points = number of columns in csv - 1\n",
    "#we also need d to get d_list which is used for 'usecols' in genfromtxt function\n",
    "d = len(file1.axes[1]) - 1\n",
    "d_list = [item for item in range(1,d+1)]\n",
    "\n",
    "#create a single ndarray 's' of all data points' coordinates and another array 's2' of their identifiers\n",
    "s = np.genfromtxt(\"abcd.csv\", dtype = np.float64, delimiter = \",\", usecols = d_list, autostrip = True)\n",
    "s2 = np.genfromtxt(\"abcd.csv\", dtype = np.str, delimiter = \",\", usecols = (0))\n",
    "n, d = s.shape\n",
    "print(n,d)"
   ]
  },
  {
   "cell_type": "code",
   "execution_count": 3,
   "metadata": {},
   "outputs": [
    {
     "name": "stdout",
     "output_type": "stream",
     "text": [
      "number of cluster:3\n",
      "number of random restarts:10\n",
      "enter 1 for verbose output else 0:1\n"
     ]
    }
   ],
   "source": [
    "k1 = int(input(\"number of cluster:\"))\n",
    "r1 = int(input(\"number of random restarts:\"))\n",
    "v1 = int(input(\"enter 1 for verbose output else 0:\"))\n",
    "\n",
    "def kmeans(k, s, v, r):\n",
    "    centers = [ [0.0]*d for i in range(k)]\n",
    "    iterations = 0\n",
    "    flag = 0\n",
    "    clusters = [ [] for i in range(k)]\n",
    "    \n",
    "    two_k = random.sample(range(0,n),2*k)\n",
    "    #print(two_k)\n",
    "    \n",
    "    cluster_number = 0\n",
    "    for i in range(0,2*k,2):\n",
    "        clusters[cluster_number].append(two_k[i])\n",
    "        clusters[cluster_number].append(two_k[i+1])\n",
    "        cluster_number = cluster_number + 1\n",
    "    #print(clusters)   \n",
    "    \n",
    "    for i in range(n):\n",
    "        if i not in two_k:\n",
    "            x = random.randint(0,k-1)\n",
    "            clusters[x].append(i)\n",
    "    \n",
    "    #print random restart counter if verbose = 1\n",
    "    if v == 1:\n",
    "        print(\"random restart count: \",r+1)\n",
    "    \n",
    "    while flag == 0:  #kmeans loop\n",
    "        iterations = iterations + 1\n",
    "        \n",
    "        #we find the centers from clusters formed in previous iteration of the while loop\n",
    "        #if its the first iteration, it finds centers from the clusters randomly formed just before the while loop\n",
    "        for i in range(k):\n",
    "            d_sum = [0.0]*d\n",
    "            length = len(clusters[i])\n",
    "            for j in clusters[i]:\n",
    "                for di in range(d):\n",
    "                    d_sum[di] = d_sum[di] + s[j][di]\n",
    "            d_mean = [0.0]*d\n",
    "            for di in range(d):\n",
    "                d_mean[di] = d_sum[di] / length\n",
    "            centers[i] = d_mean\n",
    "        \n",
    "        #calculate cost\n",
    "        c = 0.0\n",
    "        for j in range(k):\n",
    "            for j2 in clusters[j]:\n",
    "                for di in range(d):\n",
    "                    y = (s[j2][di] - centers[j][di])**2\n",
    "                    c = c + y\n",
    "        \n",
    "        #if verbose = 1 and d = 2, we print and plot every iteration\n",
    "        if v==1 and d<=2:\n",
    "            for each in clusters:\n",
    "                ind = clusters.index(each)\n",
    "                print(\"cluster\",ind+1,\": \")\n",
    "                datapoints = []\n",
    "                for each1 in each:\n",
    "                    print(s[each1])\n",
    "                    datapoints.append(s[each1])\n",
    "                print(\"the center:\",centers[ind])\n",
    "                datapoints2 = np.array(datapoints)\n",
    "                x6,y6 = datapoints2.T\n",
    "                plt.scatter(x6,y6)\n",
    "            temp1 = np.array(centers)\n",
    "            x7,y7 = temp1.T\n",
    "            plt.scatter(x7,y7)\n",
    "            plt.show()\n",
    "            print(\"Cost: \",c)\n",
    "            print(\"******************************\")\n",
    "        #if verbose = 1 and d>2, we just print every iteration\n",
    "        elif v==1 and d>2:\n",
    "            for each in clusters:\n",
    "                ind = clusters.index(each)\n",
    "                print(\"cluster\",ind+1,\": \")\n",
    "                for each1 in each:\n",
    "                    print(s[each1])\n",
    "                print(\"the center:\",centers[ind])\n",
    "                print(\"Cost: \",c)\n",
    "                print(\"******************************\")\n",
    "                \n",
    "        #we save a copy of the clusters from previous iteration to compare later with the new clusters we-\n",
    "        #-form just below. the new clusters are formed from scratch based on the new centers found above.\n",
    "        clusters_save = copy.deepcopy(clusters)\n",
    "        clusters = [ [] for i in range(k)]\n",
    "        \n",
    "        #Each data point's distance from each center is calculated.\n",
    "        for i in range(n):\n",
    "            #shortest_dist = float('inf')\n",
    "            shortest_dist = np.inf\n",
    "            for j in range(k):\n",
    "                #calculate distance as sum_of_sq between datapoint 's[i]' and center 'centers[j]'\n",
    "                sum_of_sq = 0.0\n",
    "                for di in range(d):\n",
    "                    x = (s[i][di] - centers[j][di])**2\n",
    "                    sum_of_sq = sum_of_sq + x\n",
    "                #datapoint allocated to the cluster whose center is nearest to that datapoint\n",
    "                if sum_of_sq < shortest_dist:\n",
    "                    shortest_dist = sum_of_sq\n",
    "                    new_center_index = j\n",
    "            #append i to clusters[new_center_index]\n",
    "            clusters[new_center_index].append(i)\n",
    "        \n",
    "        #we remove empty clusters, their corresponding centers and update k accordingly\n",
    "        try:\n",
    "            while True:\n",
    "                idx = clusters.index([])\n",
    "                del clusters[idx]\n",
    "                del centers[idx]\n",
    "                #clusters.remove([])\n",
    "                k = k - 1\n",
    "        except ValueError:\n",
    "            pass\n",
    "        \n",
    "        #if the new clusters are the same as old copy then we stop\n",
    "        if clusters == clusters_save:\n",
    "            flag = 1\n",
    "            \n",
    "    clusters_return = copy.deepcopy(clusters)\n",
    "    centers_return = copy.deepcopy(centers)\n",
    "    k_real = copy.deepcopy(k)\n",
    "    return [clusters_return, centers_return, k_real, iterations]\n",
    "\n",
    "def randomrestart(k, s, v, r):\n",
    "    real_cost = np.inf\n",
    "    mean_iterations = 0\n",
    "    starvation_count = 0\n",
    "    for i in range(r):\n",
    "        r_pass = copy.deepcopy(i)\n",
    "        [clustering, centroids, k_real, num_iterations] = kmeans(k, s, v, r_pass)\n",
    "        cost = 0.0\n",
    "        for j in range(k_real):\n",
    "            for j2 in clustering[j]:\n",
    "                for di in range(d):\n",
    "                    y = (s[j2][di] - centroids[j][di])**2\n",
    "                    cost = cost + y\n",
    "        if cost < real_cost:\n",
    "            real_cost = copy.deepcopy(cost)\n",
    "            real_clustering = copy.deepcopy(clustering)\n",
    "            real_centroids = copy.deepcopy(centroids)\n",
    "        mean_iterations = mean_iterations + num_iterations\n",
    "        if len(real_clustering) < k1:\n",
    "            starvation_count = starvation_count + 1\n",
    "    print(\"---------------------------Best clustering found---------------------------: \")\n",
    "    print(\"number of times kmeans returns less than k clusters: \",starvation_count)\n",
    "    print(\"average number of iterations: \",mean_iterations/r)\n",
    "    print(\"---------------------------\")\n",
    "    \n",
    "    #real_clustering, clusters etc.. are just indices of data points actually stored in s.\n",
    "    #we generate final clusters using s that contain actual corrdinates instead of indices.\n",
    "    #we then convert them into ndarray and plot using matplotlib.\n",
    "    #centers, centroids, real_centroids etc are already coordinates of the centers, so we can directly plot them\n",
    "    if d == 2:\n",
    "        for each in real_clustering:\n",
    "            print(\"cluster\",real_clustering.index(each)+1,\": \")\n",
    "            datapoints = []\n",
    "            for each1 in each:\n",
    "                print(s[each1])\n",
    "                datapoints.append(s[each1])\n",
    "            datapoints2 = np.array(datapoints)\n",
    "            x4,y4 = datapoints2.T\n",
    "            plt.scatter(x4,y4)\n",
    "        temp = np.array(real_centroids)\n",
    "        x5,y5 = temp.T\n",
    "        plt.scatter(x5,y5)\n",
    "        plt.show()\n",
    "    else:\n",
    "        for each in real_clustering:\n",
    "            print(\"cluster\",real_clustering.index(each)+1,\": \")\n",
    "            for each1 in each:\n",
    "                print(s[each1])\n",
    "    print(\"---------------------------\")\n",
    "    print(\"their final centers: \",real_centroids)\n",
    "    print(\"---------------------------\")\n",
    "    print(\"Cost: \",real_cost)\n",
    "    print(\"---------------------------\")"
   ]
  },
  {
   "cell_type": "code",
   "execution_count": 4,
   "metadata": {
    "scrolled": true
   },
   "outputs": [
    {
     "name": "stdout",
     "output_type": "stream",
     "text": [
      "random restart count:  1\n",
      "cluster 1 : \n",
      "[9.1 0. ]\n",
      "[1. 5.]\n",
      "the center: [5.05, 2.5]\n",
      "cluster 2 : \n",
      "[16.   4.1]\n",
      "[0. 4.]\n",
      "the center: [8.0, 4.05]\n",
      "cluster 3 : \n",
      "[15.   5.1]\n",
      "[8. 0.]\n",
      "the center: [11.5, 2.55]\n"
     ]
    },
    {
     "data": {
      "image/png": "[encoded data removed]",
      "text/plain": [
       "<Figure size 432x288 with 1 Axes>"
      ]
     },
     "metadata": {
      "needs_background": "light"
     },
     "output_type": "display_data"
    },
    {
     "name": "stdout",
     "output_type": "stream",
     "text": [
      "Cost:  210.815\n",
      "******************************\n",
      "cluster 1 : \n",
      "[0. 4.]\n",
      "[1. 5.]\n",
      "[8. 0.]\n",
      "the center: [3.0, 3.0]\n",
      "cluster 2 : \n",
      "[9.1 0. ]\n",
      "[16.   4.1]\n",
      "[15.   5.1]\n",
      "the center: [13.366666666666667, 3.0666666666666664]\n"
     ]
    },
    {
     "data": {
      "image/png": "[encoded data removed]",
      "text/plain": [
       "<Figure size 432x288 with 1 Axes>"
      ]
     },
     "metadata": {
      "needs_background": "light"
     },
     "output_type": "display_data"
    },
    {
     "name": "stdout",
     "output_type": "stream",
     "text": [
      "Cost:  94.41333333333331\n",
      "******************************\n",
      "random restart count:  2\n",
      "cluster 1 : \n",
      "[8. 0.]\n",
      "[15.   5.1]\n",
      "the center: [11.5, 2.55]\n",
      "cluster 2 : \n",
      "[0. 4.]\n",
      "[1. 5.]\n",
      "the center: [0.5, 4.5]\n",
      "cluster 3 : \n",
      "[16.   4.1]\n",
      "[9.1 0. ]\n",
      "the center: [12.55, 2.05]\n"
     ]
    },
    {
     "data": {
      "image/png": "[encoded data removed]",
      "text/plain": [
       "<Figure size 432x288 with 1 Axes>"
      ]
     },
     "metadata": {
      "needs_background": "light"
     },
     "output_type": "display_data"
    },
    {
     "name": "stdout",
     "output_type": "stream",
     "text": [
      "Cost:  70.715\n",
      "******************************\n",
      "cluster 1 : \n",
      "[8. 0.]\n",
      "[9.1 0. ]\n",
      "the center: [8.55, 0.0]\n",
      "cluster 2 : \n",
      "[0. 4.]\n",
      "[1. 5.]\n",
      "the center: [0.5, 4.5]\n",
      "cluster 3 : \n",
      "[16.   4.1]\n",
      "[15.   5.1]\n",
      "the center: [15.5, 4.6]\n"
     ]
    },
    {
     "data": {
      "image/png": "[encoded data removed]",
      "text/plain": [
       "<Figure size 432x288 with 1 Axes>"
      ]
     },
     "metadata": {
      "needs_background": "light"
     },
     "output_type": "display_data"
    },
    {
     "name": "stdout",
     "output_type": "stream",
     "text": [
      "Cost:  2.6049999999999995\n",
      "******************************\n",
      "random restart count:  3\n",
      "cluster 1 : \n",
      "[8. 0.]\n",
      "[1. 5.]\n",
      "the center: [4.5, 2.5]\n",
      "cluster 2 : \n",
      "[15.   5.1]\n",
      "[0. 4.]\n",
      "the center: [7.5, 4.55]\n",
      "cluster 3 : \n",
      "[16.   4.1]\n",
      "[9.1 0. ]\n",
      "the center: [12.55, 2.05]\n"
     ]
    },
    {
     "data": {
      "image/png": "[encoded data removed]",
      "text/plain": [
       "<Figure size 432x288 with 1 Axes>"
      ]
     },
     "metadata": {
      "needs_background": "light"
     },
     "output_type": "display_data"
    },
    {
     "name": "stdout",
     "output_type": "stream",
     "text": [
      "Cost:  182.315\n",
      "******************************\n",
      "cluster 1 : \n",
      "[0. 4.]\n",
      "[1. 5.]\n",
      "[8. 0.]\n",
      "the center: [3.0, 3.0]\n",
      "cluster 2 : \n",
      "[9.1 0. ]\n",
      "[16.   4.1]\n",
      "[15.   5.1]\n",
      "the center: [13.366666666666667, 3.0666666666666664]\n"
     ]
    },
    {
     "data": {
      "image/png": "[encoded data removed]",
      "text/plain": [
       "<Figure size 432x288 with 1 Axes>"
      ]
     },
     "metadata": {
      "needs_background": "light"
     },
     "output_type": "display_data"
    },
    {
     "name": "stdout",
     "output_type": "stream",
     "text": [
      "Cost:  94.41333333333331\n",
      "******************************\n",
      "random restart count:  4\n",
      "cluster 1 : \n",
      "[0. 4.]\n",
      "[15.   5.1]\n",
      "the center: [7.5, 4.55]\n",
      "cluster 2 : \n",
      "[1. 5.]\n",
      "[8. 0.]\n",
      "the center: [4.5, 2.5]\n",
      "cluster 3 : \n",
      "[9.1 0. ]\n",
      "[16.   4.1]\n",
      "the center: [12.55, 2.05]\n"
     ]
    },
    {
     "data": {
      "image/png": "[encoded data removed]",
      "text/plain": [
       "<Figure size 432x288 with 1 Axes>"
      ]
     },
     "metadata": {
      "needs_background": "light"
     },
     "output_type": "display_data"
    },
    {
     "name": "stdout",
     "output_type": "stream",
     "text": [
      "Cost:  182.315\n",
      "******************************\n",
      "cluster 1 : \n",
      "[0. 4.]\n",
      "[1. 5.]\n",
      "[8. 0.]\n",
      "the center: [3.0, 3.0]\n",
      "cluster 2 : \n",
      "[9.1 0. ]\n",
      "[16.   4.1]\n",
      "[15.   5.1]\n",
      "the center: [13.366666666666667, 3.0666666666666664]\n"
     ]
    },
    {
     "data": {
      "image/png": "[encoded data removed]",
      "text/plain": [
       "<Figure size 432x288 with 1 Axes>"
      ]
     },
     "metadata": {
      "needs_background": "light"
     },
     "output_type": "display_data"
    },
    {
     "name": "stdout",
     "output_type": "stream",
     "text": [
      "Cost:  94.41333333333331\n",
      "******************************\n",
      "random restart count:  5\n",
      "cluster 1 : \n",
      "[0. 4.]\n",
      "[8. 0.]\n",
      "the center: [4.0, 2.0]\n",
      "cluster 2 : \n",
      "[16.   4.1]\n",
      "[9.1 0. ]\n",
      "the center: [12.55, 2.05]\n",
      "cluster 3 : \n",
      "[1. 5.]\n",
      "[15.   5.1]\n",
      "the center: [8.0, 5.05]\n"
     ]
    },
    {
     "data": {
      "image/png": "[encoded data removed]",
      "text/plain": [
       "<Figure size 432x288 with 1 Axes>"
      ]
     },
     "metadata": {
      "needs_background": "light"
     },
     "output_type": "display_data"
    },
    {
     "name": "stdout",
     "output_type": "stream",
     "text": [
      "Cost:  170.215\n",
      "******************************\n",
      "cluster 1 : \n",
      "[0. 4.]\n",
      "[1. 5.]\n",
      "[8. 0.]\n",
      "the center: [3.0, 3.0]\n",
      "cluster 2 : \n",
      "[9.1 0. ]\n",
      "[16.   4.1]\n",
      "[15.   5.1]\n",
      "the center: [13.366666666666667, 3.0666666666666664]\n"
     ]
    },
    {
     "data": {
      "image/png": "[encoded data removed]",
      "text/plain": [
       "<Figure size 432x288 with 1 Axes>"
      ]
     },
     "metadata": {
      "needs_background": "light"
     },
     "output_type": "display_data"
    },
    {
     "name": "stdout",
     "output_type": "stream",
     "text": [
      "Cost:  94.41333333333331\n",
      "******************************\n",
      "random restart count:  6\n",
      "cluster 1 : \n",
      "[15.   5.1]\n",
      "[1. 5.]\n",
      "the center: [8.0, 5.05]\n",
      "cluster 2 : \n",
      "[9.1 0. ]\n",
      "[0. 4.]\n",
      "the center: [4.55, 2.0]\n",
      "cluster 3 : \n",
      "[8. 0.]\n",
      "[16.   4.1]\n",
      "the center: [12.0, 2.05]\n"
     ]
    },
    {
     "data": {
      "image/png": "[encoded data removed]",
      "text/plain": [
       "<Figure size 432x288 with 1 Axes>"
      ]
     },
     "metadata": {
      "needs_background": "light"
     },
     "output_type": "display_data"
    },
    {
     "name": "stdout",
     "output_type": "stream",
     "text": [
      "Cost:  187.81499999999997\n",
      "******************************\n",
      "cluster 1 : \n",
      "[0. 4.]\n",
      "[1. 5.]\n",
      "[8. 0.]\n",
      "the center: [3.0, 3.0]\n",
      "cluster 2 : \n",
      "[9.1 0. ]\n",
      "[16.   4.1]\n",
      "[15.   5.1]\n",
      "the center: [13.366666666666667, 3.0666666666666664]\n"
     ]
    },
    {
     "data": {
      "image/png": "[encoded data removed]",
      "text/plain": [
       "<Figure size 432x288 with 1 Axes>"
      ]
     },
     "metadata": {
      "needs_background": "light"
     },
     "output_type": "display_data"
    },
    {
     "name": "stdout",
     "output_type": "stream",
     "text": [
      "Cost:  94.41333333333331\n",
      "******************************\n",
      "random restart count:  7\n",
      "cluster 1 : \n",
      "[0. 4.]\n",
      "[1. 5.]\n",
      "the center: [0.5, 4.5]\n",
      "cluster 2 : \n",
      "[9.1 0. ]\n",
      "[8. 0.]\n",
      "the center: [8.55, 0.0]\n",
      "cluster 3 : \n",
      "[15.   5.1]\n",
      "[16.   4.1]\n",
      "the center: [15.5, 4.6]\n"
     ]
    },
    {
     "data": {
      "image/png": "[encoded data removed]",
      "text/plain": [
       "<Figure size 432x288 with 1 Axes>"
      ]
     },
     "metadata": {
      "needs_background": "light"
     },
     "output_type": "display_data"
    },
    {
     "name": "stdout",
     "output_type": "stream",
     "text": [
      "Cost:  2.6049999999999995\n",
      "******************************\n",
      "cluster 1 : \n",
      "[0. 4.]\n",
      "[1. 5.]\n",
      "the center: [0.5, 4.5]\n",
      "cluster 2 : \n",
      "[8. 0.]\n",
      "[9.1 0. ]\n",
      "the center: [8.55, 0.0]\n",
      "cluster 3 : \n",
      "[16.   4.1]\n",
      "[15.   5.1]\n",
      "the center: [15.5, 4.6]\n"
     ]
    },
    {
     "data": {
      "image/png": "[encoded data removed]",
      "text/plain": [
       "<Figure size 432x288 with 1 Axes>"
      ]
     },
     "metadata": {
      "needs_background": "light"
     },
     "output_type": "display_data"
    },
    {
     "name": "stdout",
     "output_type": "stream",
     "text": [
      "Cost:  2.6049999999999995\n",
      "******************************\n",
      "random restart count:  8\n",
      "cluster 1 : \n",
      "[8. 0.]\n",
      "[16.   4.1]\n",
      "the center: [12.0, 2.05]\n",
      "cluster 2 : \n",
      "[9.1 0. ]\n",
      "[1. 5.]\n",
      "the center: [5.05, 2.5]\n",
      "cluster 3 : \n",
      "[15.   5.1]\n",
      "[0. 4.]\n",
      "the center: [7.5, 4.55]\n"
     ]
    },
    {
     "data": {
      "image/png": "[encoded data removed]",
      "text/plain": [
       "<Figure size 432x288 with 1 Axes>"
      ]
     },
     "metadata": {
      "needs_background": "light"
     },
     "output_type": "display_data"
    },
    {
     "name": "stdout",
     "output_type": "stream",
     "text": [
      "Cost:  198.81500000000003\n",
      "******************************\n",
      "cluster 1 : \n",
      "[9.1 0. ]\n",
      "[16.   4.1]\n",
      "[15.   5.1]\n",
      "the center: [13.366666666666667, 3.0666666666666664]\n",
      "cluster 2 : \n",
      "[0. 4.]\n",
      "[1. 5.]\n",
      "[8. 0.]\n",
      "the center: [3.0, 3.0]\n"
     ]
    },
    {
     "data": {
      "image/png": "[encoded data removed]",
      "text/plain": [
       "<Figure size 432x288 with 1 Axes>"
      ]
     },
     "metadata": {
      "needs_background": "light"
     },
     "output_type": "display_data"
    },
    {
     "name": "stdout",
     "output_type": "stream",
     "text": [
      "Cost:  94.41333333333334\n",
      "******************************\n",
      "random restart count:  9\n",
      "cluster 1 : \n",
      "[8. 0.]\n",
      "[1. 5.]\n",
      "the center: [4.5, 2.5]\n",
      "cluster 2 : \n",
      "[15.   5.1]\n",
      "[0. 4.]\n",
      "the center: [7.5, 4.55]\n",
      "cluster 3 : \n",
      "[9.1 0. ]\n",
      "[16.   4.1]\n",
      "the center: [12.55, 2.05]\n"
     ]
    },
    {
     "data": {
      "image/png": "[encoded data removed]",
      "text/plain": [
       "<Figure size 432x288 with 1 Axes>"
      ]
     },
     "metadata": {
      "needs_background": "light"
     },
     "output_type": "display_data"
    },
    {
     "name": "stdout",
     "output_type": "stream",
     "text": [
      "Cost:  182.315\n",
      "******************************\n",
      "cluster 1 : \n",
      "[0. 4.]\n",
      "[1. 5.]\n",
      "[8. 0.]\n",
      "the center: [3.0, 3.0]\n",
      "cluster 2 : \n",
      "[9.1 0. ]\n",
      "[16.   4.1]\n",
      "[15.   5.1]\n",
      "the center: [13.366666666666667, 3.0666666666666664]\n"
     ]
    },
    {
     "data": {
      "image/png": "[encoded data removed]",
      "text/plain": [
       "<Figure size 432x288 with 1 Axes>"
      ]
     },
     "metadata": {
      "needs_background": "light"
     },
     "output_type": "display_data"
    },
    {
     "name": "stdout",
     "output_type": "stream",
     "text": [
      "Cost:  94.41333333333331\n",
      "******************************\n",
      "random restart count:  10\n",
      "cluster 1 : \n",
      "[8. 0.]\n",
      "[1. 5.]\n",
      "the center: [4.5, 2.5]\n",
      "cluster 2 : \n",
      "[9.1 0. ]\n",
      "[15.   5.1]\n",
      "the center: [12.05, 2.55]\n",
      "cluster 3 : \n",
      "[0. 4.]\n",
      "[16.   4.1]\n",
      "the center: [8.0, 4.05]\n"
     ]
    },
    {
     "data": {
      "image/png": "[encoded data removed]",
      "text/plain": [
       "<Figure size 432x288 with 1 Axes>"
      ]
     },
     "metadata": {
      "needs_background": "light"
     },
     "output_type": "display_data"
    },
    {
     "name": "stdout",
     "output_type": "stream",
     "text": [
      "Cost:  195.415\n",
      "******************************\n",
      "cluster 1 : \n",
      "[0. 4.]\n",
      "[1. 5.]\n",
      "the center: [0.5, 4.5]\n",
      "cluster 2 : \n",
      "[9.1 0. ]\n",
      "[16.   4.1]\n",
      "[15.   5.1]\n",
      "the center: [13.366666666666667, 3.0666666666666664]\n",
      "cluster 3 : \n",
      "[8. 0.]\n",
      "the center: [8.0, 0.0]\n"
     ]
    },
    {
     "data": {
      "image/png": "[encoded data removed]",
      "text/plain": [
       "<Figure size 432x288 with 1 Axes>"
      ]
     },
     "metadata": {
      "needs_background": "light"
     },
     "output_type": "display_data"
    },
    {
     "name": "stdout",
     "output_type": "stream",
     "text": [
      "Cost:  43.41333333333334\n",
      "******************************\n",
      "cluster 1 : \n",
      "[0. 4.]\n",
      "[1. 5.]\n",
      "the center: [0.5, 4.5]\n",
      "cluster 2 : \n",
      "[16.   4.1]\n",
      "[15.   5.1]\n",
      "the center: [15.5, 4.6]\n",
      "cluster 3 : \n",
      "[8. 0.]\n",
      "[9.1 0. ]\n",
      "the center: [8.55, 0.0]\n"
     ]
    },
    {
     "data": {
      "image/png": "[encoded data removed]",
      "text/plain": [
       "<Figure size 432x288 with 1 Axes>"
      ]
     },
     "metadata": {
      "needs_background": "light"
     },
     "output_type": "display_data"
    },
    {
     "name": "stdout",
     "output_type": "stream",
     "text": [
      "Cost:  2.6049999999999995\n",
      "******************************\n",
      "---------------------------Best clustering found---------------------------: \n",
      "number of times kmeans returns less than k clusters:  1\n",
      "average number of iterations:  2.1\n",
      "---------------------------\n",
      "cluster 1 : \n",
      "[8. 0.]\n",
      "[9.1 0. ]\n",
      "cluster 2 : \n",
      "[0. 4.]\n",
      "[1. 5.]\n",
      "cluster 3 : \n",
      "[16.   4.1]\n",
      "[15.   5.1]\n"
     ]
    },
    {
     "data": {
      "image/png": "[encoded data removed]",
      "text/plain": [
       "<Figure size 432x288 with 1 Axes>"
      ]
     },
     "metadata": {
      "needs_background": "light"
     },
     "output_type": "display_data"
    },
    {
     "name": "stdout",
     "output_type": "stream",
     "text": [
      "---------------------------\n",
      "their final centers:  [[8.55, 0.0], [0.5, 4.5], [15.5, 4.6]]\n",
      "---------------------------\n",
      "Cost:  2.6049999999999995\n",
      "---------------------------\n"
     ]
    }
   ],
   "source": [
    "randomrestart(k1,s,v1,r1)"
   ]
  },
  {
   "cell_type": "code",
   "execution_count": null,
   "metadata": {},
   "outputs": [],
   "source": []
  }
 ],
 "metadata": {
  "kernelspec": {
   "display_name": "Python 3",
   "language": "python",
   "name": "python3"
  },
  "language_info": {
   "codemirror_mode": {
    "name": "ipython",
    "version": 3
   },
   "file_extension": ".py",
   "mimetype": "text/x-python",
   "name": "python",
   "nbconvert_exporter": "python",
   "pygments_lexer": "ipython3",
   "version": "3.8.5"
  }
 },
 "nbformat": 4,
 "nbformat_minor": 4
}
